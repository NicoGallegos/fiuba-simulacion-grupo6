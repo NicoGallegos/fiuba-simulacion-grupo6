{
 "cells": [
  {
   "cell_type": "code",
   "execution_count": 4,
   "metadata": {},
   "outputs": [],
   "source": [
    "import matplotlib.pyplot as plt\n",
    "import scipy.stats as stats\n",
    "import random\n",
    "import numpy as np"
   ]
  },
  {
   "cell_type": "code",
   "execution_count": 95,
   "metadata": {},
   "outputs": [],
   "source": [
    "import numpy as np\n",
    "import math as math\n",
    "import scipy.stats as stats\n",
    "import matplotlib.pyplot as plt\n",
    "\n",
    "def normalGenerator(media, desvio,nroMuestras):\n",
    "\n",
    "    c = math.sqrt(2*math.exp(1)/np.pi);\n",
    "    t = np.random.exponential(scale=1, size=nroMuestras);\n",
    "    \n",
    "    p = list();\n",
    "    for i in t:\n",
    "        p.append(fx(i)/(c*fy(i)));\n",
    "        \n",
    "    z = list();\n",
    "    for n in range(1,nroMuestras):\n",
    "        r = np.random.uniform();\n",
    "        if (r < p[n]):\n",
    "            r2 = np.random.uniform();\n",
    "            if (r2 < 0.5):\n",
    "                z.append(t[n]*desvio+media);\n",
    "            else:\n",
    "                z.append(t[n]*-1*desvio+media);\n",
    "\n",
    "    \n",
    "    return z;\n",
    "    \n",
    "def fx(x):\n",
    "    return math.exp(-x**2/2)/math.sqrt(2*np.pi);\n",
    " \n",
    "def fy(y):\n",
    "    return math.exp(-y);\n"
   ]
  },
  {
   "cell_type": "code",
   "execution_count": 102,
   "metadata": {},
   "outputs": [
    {
     "name": "stdout",
     "output_type": "stream",
     "text": [
      "KstestResult(statistic=0.010586379775688548, pvalue=0.77982487715980386)\n"
     ]
    }
   ],
   "source": [
    "normal=  normalGenerator(35,5,10000);\n",
    "\n",
    "normalS = normal.copy();\n",
    "normalS.sort();\n",
    "\n",
    "#calculo la funcion acumulativa\n",
    "acumulativa = stats.norm.cdf(normalS, loc=35, scale=5);\n",
    "\n",
    "#Calculo el test:\n",
    "print(stats.kstest(normal,lambda x :acumulativa));\n"
   ]
  },
  {
   "cell_type": "code",
   "execution_count": 103,
   "metadata": {},
   "outputs": [
    {
     "data": {
      "text/plain": [
       "(array([ 0.00109641,  0.00562825,  0.02229371,  0.05423585,  0.0809883 ,\n",
       "         0.06541925,  0.03786276,  0.01198744,  0.00226592,  0.00043856]),\n",
       " array([ 18.21984846,  21.76322796,  25.30660745,  28.84998694,\n",
       "         32.39336643,  35.93674592,  39.48012541,  43.0235049 ,\n",
       "         46.56688439,  50.11026389,  53.65364338]),\n",
       " <a list of 10 Patch objects>)"
      ]
     },
     "execution_count": 103,
     "metadata": {},
     "output_type": "execute_result"
    },
    {
     "data": {
      "image/png": "[encoded data removed]",
      "text/plain": [
       "<matplotlib.figure.Figure at 0x26e801cf320>"
      ]
     },
     "metadata": {
      "needs_background": "light"
     },
     "output_type": "display_data"
    }
   ],
   "source": [
    "plt.hist(normal,normed=True)"
   ]
  },
  {
   "cell_type": "code",
   "execution_count": 112,
   "metadata": {},
   "outputs": [
    {
     "data": {
      "image/png": "[encoded data removed]",
      "text/plain": [
       "<matplotlib.figure.Figure at 0x26e81862710>"
      ]
     },
     "metadata": {
      "needs_background": "light"
     },
     "output_type": "display_data"
    }
   ],
   "source": [
    "n2 = np.random.normal(loc=35,scale=5,size=10000)\n",
    "plt.hist(n2,normed=True);"
   ]
  },
  {
   "cell_type": "code",
   "execution_count": null,
   "metadata": {},
   "outputs": [],
   "source": []
  }
 ],
 "metadata": {
  "kernelspec": {
   "display_name": "Python 3",
   "language": "python",
   "name": "python3"
  },
  "language_info": {
   "codemirror_mode": {
    "name": "ipython",
    "version": 3
   },
   "file_extension": ".py",
   "mimetype": "text/x-python",
   "name": "python",
   "nbconvert_exporter": "python",
   "pygments_lexer": "ipython3",
   "version": "3.6.6"
  }
 },
 "nbformat": 4,
 "nbformat_minor": 2
}
