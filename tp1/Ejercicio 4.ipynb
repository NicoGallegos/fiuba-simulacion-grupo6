{
 "cells": [
  {
   "cell_type": "markdown",
   "metadata": {},
   "source": [
    "#### Ejercicio 4"
   ]
  },
  {
   "cell_type": "code",
   "execution_count": 47,
   "metadata": {},
   "outputs": [
    {
     "data": {
      "image/png": "[encoded data removed]",
      "text/plain": [
       "<matplotlib.figure.Figure at 0x20a9914a940>"
      ]
     },
     "metadata": {
      "needs_background": "light"
     },
     "output_type": "display_data"
    }
   ],
   "source": [
    "import numpy as np\n",
    "import math as math\n",
    "import scipy.stats as stats\n",
    "import matplotlib.pyplot as plt\n",
    "\n",
    "def normalGenerator(media, desvio,nroMuestras):\n",
    "\n",
    "    c = math.sqrt(2*math.exp(1)/np.pi);\n",
    "    t = np.random.exponential(scale=1, size=nroMuestras);\n",
    "    \n",
    "    p = list();\n",
    "    for i in t:\n",
    "        p.append(fx(i)/(c*fy(i)));\n",
    "        \n",
    "    z = list();\n",
    "    for n in range(1,nroMuestras):\n",
    "        r = np.random.uniform();\n",
    "        if (r < p[n]):\n",
    "            r2 = np.random.uniform();\n",
    "            if (r2 < 0.5):\n",
    "                z.append(t[n]*desvio+media);\n",
    "            else:\n",
    "                z.append(t[n]*-1*desvio+media);\n",
    "\n",
    "    \n",
    "    return z;\n",
    "    \n",
    "def fx(x):\n",
    "    return math.exp(-x**2/2)/math.sqrt(2*np.pi);\n",
    " \n",
    "def fy(y):\n",
    "    return math.exp(-y);\n",
    "\n",
    "results= normalGenerator(35,5,100000);\n",
    "\n",
    "\n",
    "plt.hist(results,bins=200);"
   ]
  },
  {
   "cell_type": "markdown",
   "metadata": {},
   "source": [
    "####  VARIANZA"
   ]
  },
  {
   "cell_type": "code",
   "execution_count": 51,
   "metadata": {},
   "outputs": [
    {
     "name": "stdout",
     "output_type": "stream",
     "text": [
      "25.0067772918\n"
     ]
    }
   ],
   "source": [
    "print(np.var(results));"
   ]
  },
  {
   "cell_type": "markdown",
   "metadata": {},
   "source": [
    "####  MEDIA"
   ]
  },
  {
   "cell_type": "code",
   "execution_count": 53,
   "metadata": {},
   "outputs": [
    {
     "name": "stdout",
     "output_type": "stream",
     "text": [
      "34.9540678007\n"
     ]
    }
   ],
   "source": [
    "print(np.mean(results));"
   ]
  },
  {
   "cell_type": "markdown",
   "metadata": {},
   "source": [
    "####  DESVIACION ESTANDAR"
   ]
  },
  {
   "cell_type": "code",
   "execution_count": 54,
   "metadata": {},
   "outputs": [
    {
     "name": "stdout",
     "output_type": "stream",
     "text": [
      "5.00067768325\n"
     ]
    }
   ],
   "source": [
    "print(np.std(results));"
   ]
  }
 ],
 "metadata": {
  "kernelspec": {
   "display_name": "Python 3",
   "language": "python",
   "name": "python3"
  },
  "language_info": {
   "codemirror_mode": {
    "name": "ipython",
    "version": 3
   },
   "file_extension": ".py",
   "mimetype": "text/x-python",
   "name": "python",
   "nbconvert_exporter": "python",
   "pygments_lexer": "ipython3",
   "version": "3.6.6"
  }
 },
 "nbformat": 4,
 "nbformat_minor": 2
}
