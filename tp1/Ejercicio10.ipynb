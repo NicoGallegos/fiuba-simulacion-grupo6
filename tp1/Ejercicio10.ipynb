{
 "cells": [
  {
   "cell_type": "code",
   "execution_count": 4,
   "metadata": {},
   "outputs": [],
   "source": [
    "import matplotlib.pyplot as plt\n",
    "import scipy.stats as stats\n",
    "import random\n",
    "import numpy as np"
   ]
  },
  {
   "cell_type": "markdown",
   "metadata": {},
   "source": [
    "Generador del ejercicio 4."
   ]
  },
  {
   "cell_type": "code",
   "execution_count": 3,
   "metadata": {},
   "outputs": [],
   "source": [
    "import numpy as np\n",
    "import math as math\n",
    "import scipy.stats as stats\n",
    "import matplotlib.pyplot as plt\n",
    "\n",
    "def normalGenerator(media, desvio,nroMuestras):\n",
    "\n",
    "    c = math.sqrt(2*math.exp(1)/np.pi);\n",
    "    t = np.random.exponential(scale=1, size=nroMuestras);\n",
    "    \n",
    "    p = list();\n",
    "    for i in t:\n",
    "        p.append(fx(i)/(c*fy(i)));\n",
    "        \n",
    "    z = list();\n",
    "    for n in range(1,nroMuestras):\n",
    "        r = np.random.uniform();\n",
    "        if (r < p[n]):\n",
    "            r2 = np.random.uniform();\n",
    "            if (r2 < 0.5):\n",
    "                z.append(t[n]*desvio+media);\n",
    "            else:\n",
    "                z.append(t[n]*-1*desvio+media);\n",
    "\n",
    "    \n",
    "    return z;\n",
    "    \n",
    "def fx(x):\n",
    "    return math.exp(-x**2/2)/math.sqrt(2*np.pi);\n",
    " \n",
    "def fy(y):\n",
    "    return math.exp(-y);\n"
   ]
  },
  {
   "cell_type": "code",
   "execution_count": 8,
   "metadata": {},
   "outputs": [
    {
     "name": "stdout",
     "output_type": "stream",
     "text": [
      "KstestResult(statistic=0.016322736745651739, pvalue=0.26188276427017076)\n"
     ]
    }
   ],
   "source": [
    "#Llamamos a la funcion \n",
    "\n",
    "normal= normalGenerator(35,5,10000);\n",
    "\n",
    "normalS = normal.copy();\n",
    "normalS.sort();\n",
    "\n",
    "#calculo la funcion acumulativa\n",
    "acumulativa = stats.norm.cdf(normalS, loc=35, scale=5);\n",
    "\n",
    "#Calculo el test:\n",
    "print(stats.kstest(normal,lambda x :acumulativa));\n"
   ]
  },
  {
   "cell_type": "code",
   "execution_count": 5,
   "metadata": {},
   "outputs": [
    {
     "data": {
      "text/plain": [
       "(array([ 0.00059498,  0.00498294,  0.01710562,  0.0458133 ,  0.07883458,\n",
       "         0.07325666,  0.04053287,  0.0182212 ,  0.00394173,  0.00059498]),\n",
       " array([ 17.59555641,  21.11818574,  24.64081507,  28.1634444 ,\n",
       "         31.68607373,  35.20870306,  38.73133239,  42.25396172,\n",
       "         45.77659104,  49.29922037,  52.8218497 ]),\n",
       " <a list of 10 Patch objects>)"
      ]
     },
     "execution_count": 5,
     "metadata": {},
     "output_type": "execute_result"
    },
    {
     "data": {
      "image/png": "[encoded data removed]",
      "text/plain": [
       "<matplotlib.figure.Figure at 0x2519179d390>"
      ]
     },
     "metadata": {
      "needs_background": "light"
     },
     "output_type": "display_data"
    }
   ],
   "source": [
    "plt.hist(normal,normed=True)"
   ]
  },
  {
   "cell_type": "code",
   "execution_count": null,
   "metadata": {},
   "outputs": [],
   "source": []
  },
  {
   "cell_type": "code",
   "execution_count": null,
   "metadata": {},
   "outputs": [],
   "source": []
  }
 ],
 "metadata": {
  "kernelspec": {
   "display_name": "Python 3",
   "language": "python",
   "name": "python3"
  },
  "language_info": {
   "codemirror_mode": {
    "name": "ipython",
    "version": 3
   },
   "file_extension": ".py",
   "mimetype": "text/x-python",
   "name": "python",
   "nbconvert_exporter": "python",
   "pygments_lexer": "ipython3",
   "version": "3.6.6"
  }
 },
 "nbformat": 4,
 "nbformat_minor": 2
}
