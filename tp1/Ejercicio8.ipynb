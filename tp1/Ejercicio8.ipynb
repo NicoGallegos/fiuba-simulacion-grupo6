{
 "cells": [
  {
   "cell_type": "code",
   "execution_count": 80,
   "metadata": {},
   "outputs": [],
   "source": [
    "import matplotlib.pyplot as plt\n",
    "import scipy as sci\n",
    "from scipy.stats import chisquare\n",
    "import random\n",
    "import numpy as np"
   ]
  },
  {
   "cell_type": "code",
   "execution_count": 85,
   "metadata": {},
   "outputs": [],
   "source": [
    "class GeneradorDistribucionBernoulli:\n",
    "  def __init__(self, p):\n",
    "    if p < float(0.0) or p > float(1.0):\n",
    "      raise ValueError('probability must be between 0 and 1.')\n",
    "\n",
    "    self.generador = generador.GeneradorLinealCongruente()\n",
    "    self.probability = p\n",
    "\n",
    "  def generar(self):\n",
    "    u = self.generador.generar()\n",
    "\n",
    "    if u >= float(0.0) and u < float(self.probability):\n",
    "      return 1\n",
    "    elif u >= float(self.probability) and u < float(1.0):\n",
    "      return 0\n",
    "    else:\n",
    "      raise ValueError('u must be between 0 and 1.')\n",
    "\n",
    "  def generar_lista(self, cantidad):\n",
    "    lista = []\n",
    "\n",
    "    for i in range(cantidad):\n",
    "      lista.append(self.generar())\n",
    "\n",
    "    return lista\n",
    "\n",
    "class GeneradorDistribucionGeometrica:\n",
    "  def __init__(self, p):\n",
    "    if p < float(0.0) or p > float(1.0):\n",
    "      raise ValueError('probability must be between 0 and 1.')\n",
    "\n",
    "    self.generador = GeneradorDistribucionBernoulli(p)\n",
    "    self.probability = p\n",
    "\n",
    "  def generar(self):\n",
    "    if self.probability == float(0.0):\n",
    "      return math.inf\n",
    "\n",
    "    cantidad = 0\n",
    "    b = 0\n",
    "\n",
    "    while b != 1:\n",
    "      b = self.generador.generar()\n",
    "      cantidad += 1\n",
    "\n",
    "    return (cantidad - 1)\n",
    "\n",
    "  def generar_lista(self, cantidad):\n",
    "    lista = []\n",
    "\n",
    "    for i in range(cantidad):\n",
    "      lista.append(self.generar())\n",
    "\n",
    "    return lista\n"
   ]
  },
  {
   "cell_type": "markdown",
   "metadata": {},
   "source": [
    "### Ejercicio 8"
   ]
  },
  {
   "cell_type": "markdown",
   "metadata": {},
   "source": [
    "Genero una cantidad de numeros aleatorios con la distribución geométrica implementada del ejercicio 6.\n",
    "Posteriormente aplico un test chi2.\n",
    "Considero que cada valor único en la lista de numeros aleatorios es un bucket, de forma de poder aplicar chi2 para una distribucion discreta. Con ese valor genero mi valor teórico.\n",
    "Finalmente llamo a la función chi2, y obtengo mi pvalue con el cual comparar con mi valor de significancia. "
   ]
  },
  {
   "cell_type": "code",
   "execution_count": 87,
   "metadata": {},
   "outputs": [
    {
     "name": "stdout",
     "output_type": "stream",
     "text": [
      "Power_divergenceResult(statistic=81.704761904761909, pvalue=6.503811843165471e-07)\n"
     ]
    }
   ],
   "source": [
    "#Ej 8\n",
    "\n",
    "#Genero una cantidad de numeros aleatorios con la distribucion geometrica implementada del ejercicio 6.\n",
    "#Posteriormente aplico un test chi2.\n",
    "#Considero que cada valor unico en la lista de numeros aleatorios es un bucket, de forma de poder aplicar\n",
    "#El test chi2 para una distribucion discreta. Con ese valor genero mi valor teorico.\n",
    "\n",
    "cantNumeros = 30;\n",
    "proba = 0.5;\n",
    "\n",
    "#Geenero la lista del ej 6.\n",
    "g = GeneradorDistribucionGeometrica(proba);\n",
    "lista = g.generar_lista(cantNumeros);\n",
    "\n",
    "elementosContados = set(lista);\n",
    "\n",
    "#Considero como buckets la cantidad de valores únicos, y en base a eso genero el array teorico que usa la fc chi2. \n",
    "buckets = len(elementosContados);\n",
    "teorico = list();\n",
    "for i in range(0,len(lista)):\n",
    "    teorico.append(cantNumeros/buckets);\n",
    " \n",
    "\n",
    "print(chisquare(lista, f_exp=teorico));"
   ]
  },
  {
   "cell_type": "code",
   "execution_count": null,
   "metadata": {},
   "outputs": [],
   "source": []
  },
  {
   "cell_type": "code",
   "execution_count": null,
   "metadata": {},
   "outputs": [],
   "source": []
  }
 ],
 "metadata": {
  "kernelspec": {
   "display_name": "Python 3",
   "language": "python",
   "name": "python3"
  },
  "language_info": {
   "codemirror_mode": {
    "name": "ipython",
    "version": 3
   },
   "file_extension": ".py",
   "mimetype": "text/x-python",
   "name": "python",
   "nbconvert_exporter": "python",
   "pygments_lexer": "ipython3",
   "version": "3.6.6"
  }
 },
 "nbformat": 4,
 "nbformat_minor": 2
}
