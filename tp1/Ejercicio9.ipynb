{
 "cells": [
  {
   "cell_type": "code",
   "execution_count": null,
   "metadata": {},
   "outputs": [],
   "source": []
  },
  {
   "cell_type": "markdown",
   "metadata": {},
   "source": [
    "### Ejercicio 9"
   ]
  },
  {
   "cell_type": "markdown",
   "metadata": {},
   "source": [
    "Primero genero la lista de valores del ejercicio 1. Con esos valores, calculo los gaps. Llamamos gaps como la cantidad consecutiva de veces que nuestra función  genero valores dentro del intervalo esperado. Cuando encontramos un valor que no está dentro del intervalo, volvemos la cuenta de gap a 0. \n",
    "\n",
    "Una vez que tenemos nuestro array de gaps, procedemos a hacer un chi2. Para ello, tomamos cada valor de gap, como un valor de un bucket.  Luego calculamos el array esperado, con la probabilidad (intervalo Superior - int Inf), y aplicamos chi2.\n"
   ]
  },
  {
   "cell_type": "code",
   "execution_count": 74,
   "metadata": {},
   "outputs": [],
   "source": []
  },
  {
   "cell_type": "code",
   "execution_count": 92,
   "metadata": {},
   "outputs": [],
   "source": [
    "#Genero los valores del ejercicio 1.\n",
    "import util.generador as generador\n",
    "import matplotlib.pyplot as plt\n",
    "\n",
    "g = generador.GeneradorLinealCongruente()\n",
    "\n",
    "cantValores =20;\n",
    "valores = g.generar_lista(cantValores);"
   ]
  },
  {
   "cell_type": "markdown",
   "metadata": {},
   "source": []
  },
  {
   "cell_type": "code",
   "execution_count": 93,
   "metadata": {},
   "outputs": [],
   "source": [
    "#Calculo gaps\n",
    "gaps = gapGenerator(intervaloInf,intervaloSup,valores);\n",
    "\n",
    "\n",
    "#Probabilidades\n",
    "p1 = 0.6 - 0.2;\n",
    "p2 = 1 - 0.5;\n",
    " \n",
    "teoricoP1 = teoricoGenerator(gaps,p1);\n",
    "teoricoP2 = teoricoGenerator(gaps,p2);\n"
   ]
  },
  {
   "cell_type": "markdown",
   "metadata": {},
   "source": [
    "#### CASO 1 : INTERVALO ENTRE 0.2 -0.6"
   ]
  },
  {
   "cell_type": "code",
   "execution_count": 90,
   "metadata": {},
   "outputs": [
    {
     "name": "stdout",
     "output_type": "stream",
     "text": [
      "Power_divergenceResult(statistic=24.100000000000001, pvalue=0.01971320686226833)\n"
     ]
    }
   ],
   "source": [
    "print(chisquare(gaps, f_exp=teoricoP1));"
   ]
  },
  {
   "cell_type": "markdown",
   "metadata": {},
   "source": [
    "#### CASO 2 : INTERVALO ENTRE 0.5 - 1"
   ]
  },
  {
   "cell_type": "code",
   "execution_count": 91,
   "metadata": {},
   "outputs": [
    {
     "name": "stdout",
     "output_type": "stream",
     "text": [
      "Power_divergenceResult(statistic=26.5, pvalue=0.0091137941024470644)\n"
     ]
    }
   ],
   "source": [
    "print(chisquare(gaps, f_exp=teoricoP2));"
   ]
  },
  {
   "cell_type": "code",
   "execution_count": 94,
   "metadata": {},
   "outputs": [],
   "source": [
    "def teoricoGenerator(gaps,probabilidad):\n",
    "    #Genero mi array de valores esperados para chi2, con probabilidad p\n",
    "    from collections import Counter\n",
    "    \n",
    "    gapCount = Counter(gaps);\n",
    "    #Considero como buckets la cantidad de valores únicos, y en base a eso genero el array teorico que usa la fc chi2. \n",
    "    buckets = len(set(gaps));\n",
    "\n",
    "    \n",
    "    teorico = gaps.copy();\n",
    "    #Itero por las keys, cada key equivale a un elemento del bucket.\n",
    "    for i in gapCount.keys():\n",
    "        res = gapCount[i]*probabilidad;\n",
    "    #Reemplazo los valores de los gaps, por los valores esperados.\n",
    "        for index, item in enumerate(teorico):\n",
    "            if (item == i):\n",
    "                teorico[index] = res;\n",
    "\n",
    "    return teorico;"
   ]
  },
  {
   "cell_type": "code",
   "execution_count": 87,
   "metadata": {},
   "outputs": [],
   "source": [
    "\n",
    "#Cuento la cantidad de valores consecutivos que están dentro del intervalo (gaps).\n",
    "def gapGenerator(intervaloInf, intervaloSup, valores):\n",
    "    \n",
    "    gaps = list();\n",
    "    gap = 0;\n",
    "\n",
    "    for i in valores:\n",
    "        if ((intervaloInf <= i) and (intervaloSup >= i)):\n",
    "            gap+=1;\n",
    "        else:\n",
    "            gaps.append(gap);\n",
    "            gap = 0;\n",
    "\n",
    "    #Agrego el ultimo gap\n",
    "    gaps.append(gap);    \n",
    "    \n",
    "    return gaps;"
   ]
  },
  {
   "cell_type": "code",
   "execution_count": null,
   "metadata": {},
   "outputs": [],
   "source": []
  }
 ],
 "metadata": {
  "kernelspec": {
   "display_name": "Python 3",
   "language": "python",
   "name": "python3"
  },
  "language_info": {
   "codemirror_mode": {
    "name": "ipython",
    "version": 3
   },
   "file_extension": ".py",
   "mimetype": "text/x-python",
   "name": "python",
   "nbconvert_exporter": "python",
   "pygments_lexer": "ipython3",
   "version": "3.6.6"
  }
 },
 "nbformat": 4,
 "nbformat_minor": 2
}
